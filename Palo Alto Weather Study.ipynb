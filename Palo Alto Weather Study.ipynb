{
 "cells": [
  {
   "cell_type": "markdown",
   "metadata": {},
   "source": [
    "# Study on Weather in Palo Alto during 2014"
   ]
  },
  {
   "cell_type": "markdown",
   "metadata": {},
   "source": [
    "Import the necessary libraries:"
   ]
  },
  {
   "cell_type": "code",
   "execution_count": 1,
   "metadata": {
    "collapsed": false
   },
   "outputs": [],
   "source": [
    "import numpy as np\n",
    "import pandas as pd\n",
    "import matplotlib.pyplot as plt\n",
    "plt.style.use('ggplot')\n",
    "from datetime import datetime\n",
    "\n",
    "%matplotlib inline"
   ]
  },
  {
   "cell_type": "markdown",
   "metadata": {},
   "source": [
    "Load and inspect the data:"
   ]
  },
  {
   "cell_type": "code",
   "execution_count": 2,
   "metadata": {
    "collapsed": true
   },
   "outputs": [],
   "source": [
    "data = pd.read_csv('630613.csv', parse_dates=True, index_col=5)"
   ]
  },
  {
   "cell_type": "code",
   "execution_count": 3,
   "metadata": {
    "collapsed": false
   },
   "outputs": [
    {
     "data": {
      "text/html": [
       "<div>\n",
       "<table border=\"1\" class=\"dataframe\">\n",
       "  <thead>\n",
       "    <tr style=\"text-align: right;\">\n",
       "      <th></th>\n",
       "      <th>STATION</th>\n",
       "      <th>STATION_NAME</th>\n",
       "      <th>ELEVATION</th>\n",
       "      <th>LATITUDE</th>\n",
       "      <th>LONGITUDE</th>\n",
       "      <th>MDPR</th>\n",
       "      <th>Measurement Flag</th>\n",
       "      <th>Quality Flag</th>\n",
       "      <th>Source Flag</th>\n",
       "      <th>Time of Observation</th>\n",
       "      <th>...</th>\n",
       "      <th>TMIN</th>\n",
       "      <th>Measurement Flag.4</th>\n",
       "      <th>Quality Flag.4</th>\n",
       "      <th>Source Flag.4</th>\n",
       "      <th>Time of Observation.4</th>\n",
       "      <th>TOBS</th>\n",
       "      <th>Measurement Flag.5</th>\n",
       "      <th>Quality Flag.5</th>\n",
       "      <th>Source Flag.5</th>\n",
       "      <th>Time of Observation.5</th>\n",
       "    </tr>\n",
       "    <tr>\n",
       "      <th>DATE</th>\n",
       "      <th></th>\n",
       "      <th></th>\n",
       "      <th></th>\n",
       "      <th></th>\n",
       "      <th></th>\n",
       "      <th></th>\n",
       "      <th></th>\n",
       "      <th></th>\n",
       "      <th></th>\n",
       "      <th></th>\n",
       "      <th></th>\n",
       "      <th></th>\n",
       "      <th></th>\n",
       "      <th></th>\n",
       "      <th></th>\n",
       "      <th></th>\n",
       "      <th></th>\n",
       "      <th></th>\n",
       "      <th></th>\n",
       "      <th></th>\n",
       "      <th></th>\n",
       "    </tr>\n",
       "  </thead>\n",
       "  <tbody>\n",
       "    <tr>\n",
       "      <th>2014-01-08</th>\n",
       "      <td>GHCND:US1CASC0017</td>\n",
       "      <td>PALO ALTO 1.2 NE CA US</td>\n",
       "      <td>9.8</td>\n",
       "      <td>37.4516</td>\n",
       "      <td>-122.1486</td>\n",
       "      <td>-9999</td>\n",
       "      <td></td>\n",
       "      <td></td>\n",
       "      <td></td>\n",
       "      <td>9999</td>\n",
       "      <td>...</td>\n",
       "      <td>-9999</td>\n",
       "      <td></td>\n",
       "      <td></td>\n",
       "      <td></td>\n",
       "      <td>9999</td>\n",
       "      <td>-9999</td>\n",
       "      <td></td>\n",
       "      <td></td>\n",
       "      <td></td>\n",
       "      <td>9999</td>\n",
       "    </tr>\n",
       "    <tr>\n",
       "      <th>2014-01-09</th>\n",
       "      <td>GHCND:US1CASC0017</td>\n",
       "      <td>PALO ALTO 1.2 NE CA US</td>\n",
       "      <td>9.8</td>\n",
       "      <td>37.4516</td>\n",
       "      <td>-122.1486</td>\n",
       "      <td>-9999</td>\n",
       "      <td></td>\n",
       "      <td></td>\n",
       "      <td></td>\n",
       "      <td>9999</td>\n",
       "      <td>...</td>\n",
       "      <td>-9999</td>\n",
       "      <td></td>\n",
       "      <td></td>\n",
       "      <td></td>\n",
       "      <td>9999</td>\n",
       "      <td>-9999</td>\n",
       "      <td></td>\n",
       "      <td></td>\n",
       "      <td></td>\n",
       "      <td>9999</td>\n",
       "    </tr>\n",
       "    <tr>\n",
       "      <th>2014-01-29</th>\n",
       "      <td>GHCND:US1CASC0017</td>\n",
       "      <td>PALO ALTO 1.2 NE CA US</td>\n",
       "      <td>9.8</td>\n",
       "      <td>37.4516</td>\n",
       "      <td>-122.1486</td>\n",
       "      <td>-9999</td>\n",
       "      <td></td>\n",
       "      <td></td>\n",
       "      <td></td>\n",
       "      <td>9999</td>\n",
       "      <td>...</td>\n",
       "      <td>-9999</td>\n",
       "      <td></td>\n",
       "      <td></td>\n",
       "      <td></td>\n",
       "      <td>9999</td>\n",
       "      <td>-9999</td>\n",
       "      <td></td>\n",
       "      <td></td>\n",
       "      <td></td>\n",
       "      <td>9999</td>\n",
       "    </tr>\n",
       "    <tr>\n",
       "      <th>2014-01-30</th>\n",
       "      <td>GHCND:US1CASC0017</td>\n",
       "      <td>PALO ALTO 1.2 NE CA US</td>\n",
       "      <td>9.8</td>\n",
       "      <td>37.4516</td>\n",
       "      <td>-122.1486</td>\n",
       "      <td>-9999</td>\n",
       "      <td></td>\n",
       "      <td></td>\n",
       "      <td></td>\n",
       "      <td>9999</td>\n",
       "      <td>...</td>\n",
       "      <td>-9999</td>\n",
       "      <td></td>\n",
       "      <td></td>\n",
       "      <td></td>\n",
       "      <td>9999</td>\n",
       "      <td>-9999</td>\n",
       "      <td></td>\n",
       "      <td></td>\n",
       "      <td></td>\n",
       "      <td>9999</td>\n",
       "    </tr>\n",
       "    <tr>\n",
       "      <th>2014-02-02</th>\n",
       "      <td>GHCND:US1CASC0017</td>\n",
       "      <td>PALO ALTO 1.2 NE CA US</td>\n",
       "      <td>9.8</td>\n",
       "      <td>37.4516</td>\n",
       "      <td>-122.1486</td>\n",
       "      <td>-9999</td>\n",
       "      <td></td>\n",
       "      <td></td>\n",
       "      <td></td>\n",
       "      <td>9999</td>\n",
       "      <td>...</td>\n",
       "      <td>-9999</td>\n",
       "      <td></td>\n",
       "      <td></td>\n",
       "      <td></td>\n",
       "      <td>9999</td>\n",
       "      <td>-9999</td>\n",
       "      <td></td>\n",
       "      <td></td>\n",
       "      <td></td>\n",
       "      <td>9999</td>\n",
       "    </tr>\n",
       "  </tbody>\n",
       "</table>\n",
       "<p>5 rows × 35 columns</p>\n",
       "</div>"
      ],
      "text/plain": [
       "                      STATION            STATION_NAME  ELEVATION  LATITUDE  \\\n",
       "DATE                                                                         \n",
       "2014-01-08  GHCND:US1CASC0017  PALO ALTO 1.2 NE CA US        9.8   37.4516   \n",
       "2014-01-09  GHCND:US1CASC0017  PALO ALTO 1.2 NE CA US        9.8   37.4516   \n",
       "2014-01-29  GHCND:US1CASC0017  PALO ALTO 1.2 NE CA US        9.8   37.4516   \n",
       "2014-01-30  GHCND:US1CASC0017  PALO ALTO 1.2 NE CA US        9.8   37.4516   \n",
       "2014-02-02  GHCND:US1CASC0017  PALO ALTO 1.2 NE CA US        9.8   37.4516   \n",
       "\n",
       "            LONGITUDE  MDPR Measurement Flag Quality Flag Source Flag  \\\n",
       "DATE                                                                    \n",
       "2014-01-08  -122.1486 -9999                                             \n",
       "2014-01-09  -122.1486 -9999                                             \n",
       "2014-01-29  -122.1486 -9999                                             \n",
       "2014-01-30  -122.1486 -9999                                             \n",
       "2014-02-02  -122.1486 -9999                                             \n",
       "\n",
       "            Time of Observation          ...            TMIN  \\\n",
       "DATE                                     ...                   \n",
       "2014-01-08                 9999          ...           -9999   \n",
       "2014-01-09                 9999          ...           -9999   \n",
       "2014-01-29                 9999          ...           -9999   \n",
       "2014-01-30                 9999          ...           -9999   \n",
       "2014-02-02                 9999          ...           -9999   \n",
       "\n",
       "           Measurement Flag.4 Quality Flag.4 Source Flag.4  \\\n",
       "DATE                                                         \n",
       "2014-01-08                                                   \n",
       "2014-01-09                                                   \n",
       "2014-01-29                                                   \n",
       "2014-01-30                                                   \n",
       "2014-02-02                                                   \n",
       "\n",
       "            Time of Observation.4  TOBS Measurement Flag.5 Quality Flag.5  \\\n",
       "DATE                                                                        \n",
       "2014-01-08                   9999 -9999                                     \n",
       "2014-01-09                   9999 -9999                                     \n",
       "2014-01-29                   9999 -9999                                     \n",
       "2014-01-30                   9999 -9999                                     \n",
       "2014-02-02                   9999 -9999                                     \n",
       "\n",
       "           Source Flag.5  Time of Observation.5  \n",
       "DATE                                             \n",
       "2014-01-08                                 9999  \n",
       "2014-01-09                                 9999  \n",
       "2014-01-29                                 9999  \n",
       "2014-01-30                                 9999  \n",
       "2014-02-02                                 9999  \n",
       "\n",
       "[5 rows x 35 columns]"
      ]
     },
     "execution_count": 3,
     "metadata": {},
     "output_type": "execute_result"
    }
   ],
   "source": [
    "data.head()"
   ]
  },
  {
   "cell_type": "code",
   "execution_count": 4,
   "metadata": {
    "collapsed": false
   },
   "outputs": [
    {
     "name": "stdout",
     "output_type": "stream",
     "text": [
      "<class 'pandas.core.frame.DataFrame'>\n",
      "DatetimeIndex: 358 entries, 2014-01-08 to 2014-12-31\n",
      "Data columns (total 35 columns):\n",
      "STATION                  358 non-null object\n",
      "STATION_NAME             358 non-null object\n",
      "ELEVATION                358 non-null float64\n",
      "LATITUDE                 358 non-null float64\n",
      "LONGITUDE                358 non-null float64\n",
      "MDPR                     358 non-null int64\n",
      "Measurement Flag         358 non-null object\n",
      "Quality Flag             358 non-null object\n",
      "Source Flag              358 non-null object\n",
      "Time of Observation      358 non-null int64\n",
      "DAPR                     358 non-null int64\n",
      "Measurement Flag.1       358 non-null object\n",
      "Quality Flag.1           358 non-null object\n",
      "Source Flag.1            358 non-null object\n",
      "Time of Observation.1    358 non-null int64\n",
      "PRCP                     358 non-null int64\n",
      "Measurement Flag.2       358 non-null object\n",
      "Quality Flag.2           358 non-null object\n",
      "Source Flag.2            358 non-null object\n",
      "Time of Observation.2    358 non-null int64\n",
      "TMAX                     358 non-null int64\n",
      "Measurement Flag.3       358 non-null object\n",
      "Quality Flag.3           358 non-null object\n",
      "Source Flag.3            358 non-null object\n",
      "Time of Observation.3    358 non-null int64\n",
      "TMIN                     358 non-null int64\n",
      "Measurement Flag.4       358 non-null object\n",
      "Quality Flag.4           358 non-null object\n",
      "Source Flag.4            358 non-null object\n",
      "Time of Observation.4    358 non-null int64\n",
      "TOBS                     358 non-null int64\n",
      "Measurement Flag.5       358 non-null object\n",
      "Quality Flag.5           358 non-null object\n",
      "Source Flag.5            358 non-null object\n",
      "Time of Observation.5    358 non-null int64\n",
      "dtypes: float64(3), int64(12), object(20)\n",
      "memory usage: 100.7+ KB\n"
     ]
    }
   ],
   "source": [
    "data.info()"
   ]
  },
  {
   "cell_type": "code",
   "execution_count": 5,
   "metadata": {
    "collapsed": false
   },
   "outputs": [
    {
     "data": {
      "text/html": [
       "<div>\n",
       "<table border=\"1\" class=\"dataframe\">\n",
       "  <thead>\n",
       "    <tr style=\"text-align: right;\">\n",
       "      <th></th>\n",
       "      <th>count</th>\n",
       "      <th>mean</th>\n",
       "      <th>std</th>\n",
       "      <th>min</th>\n",
       "      <th>25%</th>\n",
       "      <th>50%</th>\n",
       "      <th>75%</th>\n",
       "      <th>max</th>\n",
       "    </tr>\n",
       "  </thead>\n",
       "  <tbody>\n",
       "    <tr>\n",
       "      <th>ELEVATION</th>\n",
       "      <td>358</td>\n",
       "      <td>7.944134</td>\n",
       "      <td>0.800285</td>\n",
       "      <td>7.6000</td>\n",
       "      <td>7.6000</td>\n",
       "      <td>7.6000</td>\n",
       "      <td>7.6000</td>\n",
       "      <td>9.8000</td>\n",
       "    </tr>\n",
       "    <tr>\n",
       "      <th>LATITUDE</th>\n",
       "      <td>358</td>\n",
       "      <td>37.444851</td>\n",
       "      <td>0.002910</td>\n",
       "      <td>37.4436</td>\n",
       "      <td>37.4436</td>\n",
       "      <td>37.4436</td>\n",
       "      <td>37.4436</td>\n",
       "      <td>37.4516</td>\n",
       "    </tr>\n",
       "    <tr>\n",
       "      <th>LONGITUDE</th>\n",
       "      <td>358</td>\n",
       "      <td>-122.141514</td>\n",
       "      <td>0.003056</td>\n",
       "      <td>-122.1486</td>\n",
       "      <td>-122.1402</td>\n",
       "      <td>-122.1402</td>\n",
       "      <td>-122.1402</td>\n",
       "      <td>-122.1402</td>\n",
       "    </tr>\n",
       "    <tr>\n",
       "      <th>MDPR</th>\n",
       "      <td>358</td>\n",
       "      <td>-9999.000000</td>\n",
       "      <td>0.000000</td>\n",
       "      <td>-9999.0000</td>\n",
       "      <td>-9999.0000</td>\n",
       "      <td>-9999.0000</td>\n",
       "      <td>-9999.0000</td>\n",
       "      <td>-9999.0000</td>\n",
       "    </tr>\n",
       "    <tr>\n",
       "      <th>Time of Observation</th>\n",
       "      <td>358</td>\n",
       "      <td>9999.000000</td>\n",
       "      <td>0.000000</td>\n",
       "      <td>9999.0000</td>\n",
       "      <td>9999.0000</td>\n",
       "      <td>9999.0000</td>\n",
       "      <td>9999.0000</td>\n",
       "      <td>9999.0000</td>\n",
       "    </tr>\n",
       "    <tr>\n",
       "      <th>DAPR</th>\n",
       "      <td>358</td>\n",
       "      <td>-9999.000000</td>\n",
       "      <td>0.000000</td>\n",
       "      <td>-9999.0000</td>\n",
       "      <td>-9999.0000</td>\n",
       "      <td>-9999.0000</td>\n",
       "      <td>-9999.0000</td>\n",
       "      <td>-9999.0000</td>\n",
       "    </tr>\n",
       "    <tr>\n",
       "      <th>Time of Observation.1</th>\n",
       "      <td>358</td>\n",
       "      <td>9999.000000</td>\n",
       "      <td>0.000000</td>\n",
       "      <td>9999.0000</td>\n",
       "      <td>9999.0000</td>\n",
       "      <td>9999.0000</td>\n",
       "      <td>9999.0000</td>\n",
       "      <td>9999.0000</td>\n",
       "    </tr>\n",
       "    <tr>\n",
       "      <th>PRCP</th>\n",
       "      <td>358</td>\n",
       "      <td>22.717877</td>\n",
       "      <td>79.004104</td>\n",
       "      <td>0.0000</td>\n",
       "      <td>0.0000</td>\n",
       "      <td>0.0000</td>\n",
       "      <td>5.0000</td>\n",
       "      <td>1003.0000</td>\n",
       "    </tr>\n",
       "    <tr>\n",
       "      <th>Time of Observation.2</th>\n",
       "      <td>358</td>\n",
       "      <td>2238.949721</td>\n",
       "      <td>3346.281577</td>\n",
       "      <td>800.0000</td>\n",
       "      <td>800.0000</td>\n",
       "      <td>800.0000</td>\n",
       "      <td>800.0000</td>\n",
       "      <td>9999.0000</td>\n",
       "    </tr>\n",
       "    <tr>\n",
       "      <th>TMAX</th>\n",
       "      <td>358</td>\n",
       "      <td>-1463.332402</td>\n",
       "      <td>3797.247070</td>\n",
       "      <td>-9999.0000</td>\n",
       "      <td>156.0000</td>\n",
       "      <td>200.0000</td>\n",
       "      <td>256.0000</td>\n",
       "      <td>344.0000</td>\n",
       "    </tr>\n",
       "    <tr>\n",
       "      <th>Time of Observation.3</th>\n",
       "      <td>358</td>\n",
       "      <td>2316.036313</td>\n",
       "      <td>3417.642231</td>\n",
       "      <td>800.0000</td>\n",
       "      <td>800.0000</td>\n",
       "      <td>800.0000</td>\n",
       "      <td>800.0000</td>\n",
       "      <td>9999.0000</td>\n",
       "    </tr>\n",
       "    <tr>\n",
       "      <th>TMIN</th>\n",
       "      <td>358</td>\n",
       "      <td>-1569.120112</td>\n",
       "      <td>3750.044750</td>\n",
       "      <td>-9999.0000</td>\n",
       "      <td>45.5000</td>\n",
       "      <td>89.0000</td>\n",
       "      <td>117.0000</td>\n",
       "      <td>167.0000</td>\n",
       "    </tr>\n",
       "    <tr>\n",
       "      <th>Time of Observation.4</th>\n",
       "      <td>358</td>\n",
       "      <td>2316.036313</td>\n",
       "      <td>3417.642231</td>\n",
       "      <td>800.0000</td>\n",
       "      <td>800.0000</td>\n",
       "      <td>800.0000</td>\n",
       "      <td>800.0000</td>\n",
       "      <td>9999.0000</td>\n",
       "    </tr>\n",
       "    <tr>\n",
       "      <th>TOBS</th>\n",
       "      <td>358</td>\n",
       "      <td>-1547.737430</td>\n",
       "      <td>3759.582587</td>\n",
       "      <td>-9999.0000</td>\n",
       "      <td>67.0000</td>\n",
       "      <td>114.0000</td>\n",
       "      <td>144.0000</td>\n",
       "      <td>261.0000</td>\n",
       "    </tr>\n",
       "    <tr>\n",
       "      <th>Time of Observation.5</th>\n",
       "      <td>358</td>\n",
       "      <td>2316.036313</td>\n",
       "      <td>3417.642231</td>\n",
       "      <td>800.0000</td>\n",
       "      <td>800.0000</td>\n",
       "      <td>800.0000</td>\n",
       "      <td>800.0000</td>\n",
       "      <td>9999.0000</td>\n",
       "    </tr>\n",
       "  </tbody>\n",
       "</table>\n",
       "</div>"
      ],
      "text/plain": [
       "                       count         mean          std        min        25%  \\\n",
       "ELEVATION                358     7.944134     0.800285     7.6000     7.6000   \n",
       "LATITUDE                 358    37.444851     0.002910    37.4436    37.4436   \n",
       "LONGITUDE                358  -122.141514     0.003056  -122.1486  -122.1402   \n",
       "MDPR                     358 -9999.000000     0.000000 -9999.0000 -9999.0000   \n",
       "Time of Observation      358  9999.000000     0.000000  9999.0000  9999.0000   \n",
       "DAPR                     358 -9999.000000     0.000000 -9999.0000 -9999.0000   \n",
       "Time of Observation.1    358  9999.000000     0.000000  9999.0000  9999.0000   \n",
       "PRCP                     358    22.717877    79.004104     0.0000     0.0000   \n",
       "Time of Observation.2    358  2238.949721  3346.281577   800.0000   800.0000   \n",
       "TMAX                     358 -1463.332402  3797.247070 -9999.0000   156.0000   \n",
       "Time of Observation.3    358  2316.036313  3417.642231   800.0000   800.0000   \n",
       "TMIN                     358 -1569.120112  3750.044750 -9999.0000    45.5000   \n",
       "Time of Observation.4    358  2316.036313  3417.642231   800.0000   800.0000   \n",
       "TOBS                     358 -1547.737430  3759.582587 -9999.0000    67.0000   \n",
       "Time of Observation.5    358  2316.036313  3417.642231   800.0000   800.0000   \n",
       "\n",
       "                             50%        75%        max  \n",
       "ELEVATION                 7.6000     7.6000     9.8000  \n",
       "LATITUDE                 37.4436    37.4436    37.4516  \n",
       "LONGITUDE              -122.1402  -122.1402  -122.1402  \n",
       "MDPR                  -9999.0000 -9999.0000 -9999.0000  \n",
       "Time of Observation    9999.0000  9999.0000  9999.0000  \n",
       "DAPR                  -9999.0000 -9999.0000 -9999.0000  \n",
       "Time of Observation.1  9999.0000  9999.0000  9999.0000  \n",
       "PRCP                      0.0000     5.0000  1003.0000  \n",
       "Time of Observation.2   800.0000   800.0000  9999.0000  \n",
       "TMAX                    200.0000   256.0000   344.0000  \n",
       "Time of Observation.3   800.0000   800.0000  9999.0000  \n",
       "TMIN                     89.0000   117.0000   167.0000  \n",
       "Time of Observation.4   800.0000   800.0000  9999.0000  \n",
       "TOBS                    114.0000   144.0000   261.0000  \n",
       "Time of Observation.5   800.0000   800.0000  9999.0000  "
      ]
     },
     "execution_count": 5,
     "metadata": {},
     "output_type": "execute_result"
    }
   ],
   "source": [
    "data.describe().T"
   ]
  },
  {
   "cell_type": "markdown",
   "metadata": {},
   "source": [
    "### Clean the data:"
   ]
  },
  {
   "cell_type": "code",
   "execution_count": 6,
   "metadata": {
    "collapsed": false
   },
   "outputs": [],
   "source": [
    "data = data.replace([-9999, 9999], [np.nan, np.nan])"
   ]
  },
  {
   "cell_type": "code",
   "execution_count": 7,
   "metadata": {
    "collapsed": false
   },
   "outputs": [
    {
     "data": {
      "text/html": [
       "<div>\n",
       "<table border=\"1\" class=\"dataframe\">\n",
       "  <thead>\n",
       "    <tr style=\"text-align: right;\">\n",
       "      <th></th>\n",
       "      <th>count</th>\n",
       "      <th>mean</th>\n",
       "      <th>std</th>\n",
       "      <th>min</th>\n",
       "      <th>25%</th>\n",
       "      <th>50%</th>\n",
       "      <th>75%</th>\n",
       "      <th>max</th>\n",
       "    </tr>\n",
       "  </thead>\n",
       "  <tbody>\n",
       "    <tr>\n",
       "      <th>ELEVATION</th>\n",
       "      <td>358</td>\n",
       "      <td>7.944134</td>\n",
       "      <td>0.800285</td>\n",
       "      <td>7.6000</td>\n",
       "      <td>7.6000</td>\n",
       "      <td>7.6000</td>\n",
       "      <td>7.6000</td>\n",
       "      <td>9.8000</td>\n",
       "    </tr>\n",
       "    <tr>\n",
       "      <th>LATITUDE</th>\n",
       "      <td>358</td>\n",
       "      <td>37.444851</td>\n",
       "      <td>0.002910</td>\n",
       "      <td>37.4436</td>\n",
       "      <td>37.4436</td>\n",
       "      <td>37.4436</td>\n",
       "      <td>37.4436</td>\n",
       "      <td>37.4516</td>\n",
       "    </tr>\n",
       "    <tr>\n",
       "      <th>LONGITUDE</th>\n",
       "      <td>358</td>\n",
       "      <td>-122.141514</td>\n",
       "      <td>0.003056</td>\n",
       "      <td>-122.1486</td>\n",
       "      <td>-122.1402</td>\n",
       "      <td>-122.1402</td>\n",
       "      <td>-122.1402</td>\n",
       "      <td>-122.1402</td>\n",
       "    </tr>\n",
       "    <tr>\n",
       "      <th>MDPR</th>\n",
       "      <td>0</td>\n",
       "      <td>NaN</td>\n",
       "      <td>NaN</td>\n",
       "      <td>NaN</td>\n",
       "      <td>NaN</td>\n",
       "      <td>NaN</td>\n",
       "      <td>NaN</td>\n",
       "      <td>NaN</td>\n",
       "    </tr>\n",
       "    <tr>\n",
       "      <th>Time of Observation</th>\n",
       "      <td>0</td>\n",
       "      <td>NaN</td>\n",
       "      <td>NaN</td>\n",
       "      <td>NaN</td>\n",
       "      <td>NaN</td>\n",
       "      <td>NaN</td>\n",
       "      <td>NaN</td>\n",
       "      <td>NaN</td>\n",
       "    </tr>\n",
       "    <tr>\n",
       "      <th>DAPR</th>\n",
       "      <td>0</td>\n",
       "      <td>NaN</td>\n",
       "      <td>NaN</td>\n",
       "      <td>NaN</td>\n",
       "      <td>NaN</td>\n",
       "      <td>NaN</td>\n",
       "      <td>NaN</td>\n",
       "      <td>NaN</td>\n",
       "    </tr>\n",
       "    <tr>\n",
       "      <th>Time of Observation.1</th>\n",
       "      <td>0</td>\n",
       "      <td>NaN</td>\n",
       "      <td>NaN</td>\n",
       "      <td>NaN</td>\n",
       "      <td>NaN</td>\n",
       "      <td>NaN</td>\n",
       "      <td>NaN</td>\n",
       "      <td>NaN</td>\n",
       "    </tr>\n",
       "    <tr>\n",
       "      <th>PRCP</th>\n",
       "      <td>358</td>\n",
       "      <td>22.717877</td>\n",
       "      <td>79.004104</td>\n",
       "      <td>0.0000</td>\n",
       "      <td>0.0000</td>\n",
       "      <td>0.0000</td>\n",
       "      <td>5.0000</td>\n",
       "      <td>1003.0000</td>\n",
       "    </tr>\n",
       "    <tr>\n",
       "      <th>Time of Observation.2</th>\n",
       "      <td>302</td>\n",
       "      <td>800.000000</td>\n",
       "      <td>0.000000</td>\n",
       "      <td>800.0000</td>\n",
       "      <td>800.0000</td>\n",
       "      <td>800.0000</td>\n",
       "      <td>800.0000</td>\n",
       "      <td>800.0000</td>\n",
       "    </tr>\n",
       "    <tr>\n",
       "      <th>TMAX</th>\n",
       "      <td>299</td>\n",
       "      <td>220.963211</td>\n",
       "      <td>51.654979</td>\n",
       "      <td>111.0000</td>\n",
       "      <td>183.0000</td>\n",
       "      <td>222.0000</td>\n",
       "      <td>258.5000</td>\n",
       "      <td>344.0000</td>\n",
       "    </tr>\n",
       "    <tr>\n",
       "      <th>Time of Observation.3</th>\n",
       "      <td>299</td>\n",
       "      <td>800.000000</td>\n",
       "      <td>0.000000</td>\n",
       "      <td>800.0000</td>\n",
       "      <td>800.0000</td>\n",
       "      <td>800.0000</td>\n",
       "      <td>800.0000</td>\n",
       "      <td>800.0000</td>\n",
       "    </tr>\n",
       "    <tr>\n",
       "      <th>TMIN</th>\n",
       "      <td>299</td>\n",
       "      <td>94.301003</td>\n",
       "      <td>36.578724</td>\n",
       "      <td>-22.0000</td>\n",
       "      <td>72.0000</td>\n",
       "      <td>100.0000</td>\n",
       "      <td>119.5000</td>\n",
       "      <td>167.0000</td>\n",
       "    </tr>\n",
       "    <tr>\n",
       "      <th>Time of Observation.4</th>\n",
       "      <td>299</td>\n",
       "      <td>800.000000</td>\n",
       "      <td>0.000000</td>\n",
       "      <td>800.0000</td>\n",
       "      <td>800.0000</td>\n",
       "      <td>800.0000</td>\n",
       "      <td>800.0000</td>\n",
       "      <td>800.0000</td>\n",
       "    </tr>\n",
       "    <tr>\n",
       "      <th>TOBS</th>\n",
       "      <td>299</td>\n",
       "      <td>119.903010</td>\n",
       "      <td>39.704791</td>\n",
       "      <td>0.0000</td>\n",
       "      <td>94.0000</td>\n",
       "      <td>122.0000</td>\n",
       "      <td>144.0000</td>\n",
       "      <td>261.0000</td>\n",
       "    </tr>\n",
       "    <tr>\n",
       "      <th>Time of Observation.5</th>\n",
       "      <td>299</td>\n",
       "      <td>800.000000</td>\n",
       "      <td>0.000000</td>\n",
       "      <td>800.0000</td>\n",
       "      <td>800.0000</td>\n",
       "      <td>800.0000</td>\n",
       "      <td>800.0000</td>\n",
       "      <td>800.0000</td>\n",
       "    </tr>\n",
       "  </tbody>\n",
       "</table>\n",
       "</div>"
      ],
      "text/plain": [
       "                       count        mean        std       min       25%  \\\n",
       "ELEVATION                358    7.944134   0.800285    7.6000    7.6000   \n",
       "LATITUDE                 358   37.444851   0.002910   37.4436   37.4436   \n",
       "LONGITUDE                358 -122.141514   0.003056 -122.1486 -122.1402   \n",
       "MDPR                       0         NaN        NaN       NaN       NaN   \n",
       "Time of Observation        0         NaN        NaN       NaN       NaN   \n",
       "DAPR                       0         NaN        NaN       NaN       NaN   \n",
       "Time of Observation.1      0         NaN        NaN       NaN       NaN   \n",
       "PRCP                     358   22.717877  79.004104    0.0000    0.0000   \n",
       "Time of Observation.2    302  800.000000   0.000000  800.0000  800.0000   \n",
       "TMAX                     299  220.963211  51.654979  111.0000  183.0000   \n",
       "Time of Observation.3    299  800.000000   0.000000  800.0000  800.0000   \n",
       "TMIN                     299   94.301003  36.578724  -22.0000   72.0000   \n",
       "Time of Observation.4    299  800.000000   0.000000  800.0000  800.0000   \n",
       "TOBS                     299  119.903010  39.704791    0.0000   94.0000   \n",
       "Time of Observation.5    299  800.000000   0.000000  800.0000  800.0000   \n",
       "\n",
       "                            50%       75%        max  \n",
       "ELEVATION                7.6000    7.6000     9.8000  \n",
       "LATITUDE                37.4436   37.4436    37.4516  \n",
       "LONGITUDE             -122.1402 -122.1402  -122.1402  \n",
       "MDPR                        NaN       NaN        NaN  \n",
       "Time of Observation         NaN       NaN        NaN  \n",
       "DAPR                        NaN       NaN        NaN  \n",
       "Time of Observation.1       NaN       NaN        NaN  \n",
       "PRCP                     0.0000    5.0000  1003.0000  \n",
       "Time of Observation.2  800.0000  800.0000   800.0000  \n",
       "TMAX                   222.0000  258.5000   344.0000  \n",
       "Time of Observation.3  800.0000  800.0000   800.0000  \n",
       "TMIN                   100.0000  119.5000   167.0000  \n",
       "Time of Observation.4  800.0000  800.0000   800.0000  \n",
       "TOBS                   122.0000  144.0000   261.0000  \n",
       "Time of Observation.5  800.0000  800.0000   800.0000  "
      ]
     },
     "execution_count": 7,
     "metadata": {},
     "output_type": "execute_result"
    }
   ],
   "source": [
    "data.describe().T"
   ]
  },
  {
   "cell_type": "code",
   "execution_count": 8,
   "metadata": {
    "collapsed": true
   },
   "outputs": [],
   "source": [
    "data['TMIN'] = data['TMIN'] / 10. # All temperatures to tenths. Convert temperatures to Celcius."
   ]
  },
  {
   "cell_type": "code",
   "execution_count": 9,
   "metadata": {
    "collapsed": true
   },
   "outputs": [],
   "source": [
    "data['TMAX'] = data['TMAX'] / 10. # All temperatures to tenths. Convert temperatures to Celcius."
   ]
  },
  {
   "cell_type": "markdown",
   "metadata": {},
   "source": [
    "### Temperatures in Palo Alto"
   ]
  },
  {
   "cell_type": "code",
   "execution_count": 10,
   "metadata": {
    "collapsed": false
   },
   "outputs": [
    {
     "data": {
      "text/html": [
       "<div>\n",
       "<table border=\"1\" class=\"dataframe\">\n",
       "  <thead>\n",
       "    <tr style=\"text-align: right;\">\n",
       "      <th></th>\n",
       "      <th>count</th>\n",
       "      <th>mean</th>\n",
       "      <th>std</th>\n",
       "      <th>min</th>\n",
       "      <th>25%</th>\n",
       "      <th>50%</th>\n",
       "      <th>75%</th>\n",
       "      <th>max</th>\n",
       "    </tr>\n",
       "  </thead>\n",
       "  <tbody>\n",
       "    <tr>\n",
       "      <th>TMIN</th>\n",
       "      <td>299</td>\n",
       "      <td>9.430100</td>\n",
       "      <td>3.657872</td>\n",
       "      <td>-2.2</td>\n",
       "      <td>7.2</td>\n",
       "      <td>10.00</td>\n",
       "      <td>11.95</td>\n",
       "      <td>16.7</td>\n",
       "    </tr>\n",
       "    <tr>\n",
       "      <th>TMAX</th>\n",
       "      <td>299</td>\n",
       "      <td>22.096321</td>\n",
       "      <td>5.165498</td>\n",
       "      <td>11.1</td>\n",
       "      <td>18.3</td>\n",
       "      <td>22.20</td>\n",
       "      <td>25.85</td>\n",
       "      <td>34.4</td>\n",
       "    </tr>\n",
       "    <tr>\n",
       "      <th>TMEAN</th>\n",
       "      <td>299</td>\n",
       "      <td>15.763211</td>\n",
       "      <td>3.966303</td>\n",
       "      <td>6.1</td>\n",
       "      <td>12.8</td>\n",
       "      <td>15.85</td>\n",
       "      <td>19.15</td>\n",
       "      <td>24.4</td>\n",
       "    </tr>\n",
       "  </tbody>\n",
       "</table>\n",
       "</div>"
      ],
      "text/plain": [
       "       count       mean       std   min   25%    50%    75%   max\n",
       "TMIN     299   9.430100  3.657872  -2.2   7.2  10.00  11.95  16.7\n",
       "TMAX     299  22.096321  5.165498  11.1  18.3  22.20  25.85  34.4\n",
       "TMEAN    299  15.763211  3.966303   6.1  12.8  15.85  19.15  24.4"
      ]
     },
     "execution_count": 10,
     "metadata": {},
     "output_type": "execute_result"
    }
   ],
   "source": [
    "data['TMEAN'] = pd.DataFrame(data, columns=['TMIN','TMAX']).mean(axis=1)\n",
    "pd.DataFrame(data, columns=['TMIN','TMAX','TMEAN']).describe().T"
   ]
  },
  {
   "cell_type": "code",
   "execution_count": 11,
   "metadata": {
    "collapsed": false
   },
   "outputs": [
    {
     "data": {
      "text/plain": [
       "<matplotlib.text.Text at 0x1117f48d0>"
      ]
     },
     "execution_count": 11,
     "metadata": {},
     "output_type": "execute_result"
    },
    {
     "data": {
      "image/png": "[encoded data removed]",
      "text/plain": [
       "<matplotlib.figure.Figure at 0x1117c3cd0>"
      ]
     },
     "metadata": {},
     "output_type": "display_data"
    }
   ],
   "source": [
    "data.TMIN.plot(style='k')\n",
    "ax = pd.ewma(data.TMIN, 10).plot(x='Date',y='T (C)',style='k--', title='Minimum Temperatures')\n",
    "ax.set_xlabel('Date')\n",
    "ax.set_ylabel('T (C)')"
   ]
  },
  {
   "cell_type": "code",
   "execution_count": 12,
   "metadata": {
    "collapsed": false
   },
   "outputs": [
    {
     "data": {
      "text/plain": [
       "<matplotlib.text.Text at 0x1118be710>"
      ]
     },
     "execution_count": 12,
     "metadata": {},
     "output_type": "execute_result"
    },
    {
     "data": {
      "image/png": "[encoded data removed]",
      "text/plain": [
       "<matplotlib.figure.Figure at 0x111738a90>"
      ]
     },
     "metadata": {},
     "output_type": "display_data"
    }
   ],
   "source": [
    "data.TMAX.plot(style='k')\n",
    "ax = pd.ewma(data.TMAX, 10).plot(x='Date',y='T (C)',style='k--', title='Maximum Temperatures')\n",
    "ax.set_xlabel('Date')\n",
    "ax.set_ylabel('T (C)')"
   ]
  },
  {
   "cell_type": "code",
   "execution_count": 13,
   "metadata": {
    "collapsed": false
   },
   "outputs": [
    {
     "data": {
      "text/plain": [
       "<matplotlib.text.Text at 0x1118befd0>"
      ]
     },
     "execution_count": 13,
     "metadata": {},
     "output_type": "execute_result"
    },
    {
     "data": {
      "image/png": "[encoded data removed]",
      "text/plain": [
       "<matplotlib.figure.Figure at 0x111d6b2d0>"
      ]
     },
     "metadata": {},
     "output_type": "display_data"
    }
   ],
   "source": [
    "data.TMEAN.plot(style='k')\n",
    "ax = pd.ewma(data.TMEAN, 10).plot(x='Date',y='T (C)',style='k--', title='Mean Temperatures')\n",
    "ax.set_xlabel('Date')\n",
    "ax.set_ylabel('T (C)')"
   ]
  },
  {
   "cell_type": "markdown",
   "metadata": {},
   "source": [
    "### Observations:"
   ]
  },
  {
   "cell_type": "markdown",
   "metadata": {},
   "source": [
    "The plots show a general increase in temperature until mid-September. After that, there is a sharp decrease in temperature until the end of November. At the beginning of December there is a small spike in the average temperature."
   ]
  },
  {
   "cell_type": "markdown",
   "metadata": {
    "collapsed": true
   },
   "source": [
    "## Precipitation"
   ]
  },
  {
   "cell_type": "code",
   "execution_count": 14,
   "metadata": {
    "collapsed": true
   },
   "outputs": [],
   "source": [
    "data['PRCP'] = data['PRCP'] / 10. # convert to mm"
   ]
  },
  {
   "cell_type": "code",
   "execution_count": 15,
   "metadata": {
    "collapsed": false
   },
   "outputs": [],
   "source": [
    "by_month = data.groupby(lambda x: x.month)"
   ]
  },
  {
   "cell_type": "code",
   "execution_count": 16,
   "metadata": {
    "collapsed": true
   },
   "outputs": [],
   "source": [
    "data_by_month = by_month.apply(sum)"
   ]
  },
  {
   "cell_type": "code",
   "execution_count": 17,
   "metadata": {
    "collapsed": false
   },
   "outputs": [
    {
     "data": {
      "text/plain": [
       "<matplotlib.text.Text at 0x111dc4d10>"
      ]
     },
     "execution_count": 17,
     "metadata": {},
     "output_type": "execute_result"
    },
    {
     "data": {
      "image/png": "[encoded data removed]",
      "text/plain": [
       "<matplotlib.figure.Figure at 0x11162b950>"
      ]
     },
     "metadata": {},
     "output_type": "display_data"
    }
   ],
   "source": [
    "ax = data_by_month['PRCP'].plot(kind='bar', title='Monthly Precipitation')\n",
    "ax.set_xlabel('month')\n",
    "ax.set_xticklabels(['Jan', 'Feb', 'Mar', 'Apr', 'May', 'Jun', 'Jul', 'Aug', 'Sep', 'Oct', 'Nov', 'Dec'])\n",
    "ax.set_ylabel('Precipitation (mm)')"
   ]
  },
  {
   "cell_type": "markdown",
   "metadata": {},
   "source": [
    "### Observations:"
   ]
  },
  {
   "cell_type": "markdown",
   "metadata": {},
   "source": [
    "The plot shows December was the rainest month of 2014."
   ]
  },
  {
   "cell_type": "code",
   "execution_count": null,
   "metadata": {
    "collapsed": true
   },
   "outputs": [],
   "source": []
  }
 ],
 "metadata": {
  "kernelspec": {
   "display_name": "Python 2",
   "language": "python",
   "name": "python2"
  },
  "language_info": {
   "codemirror_mode": {
    "name": "ipython",
    "version": 2
   },
   "file_extension": ".py",
   "mimetype": "text/x-python",
   "name": "python",
   "nbconvert_exporter": "python",
   "pygments_lexer": "ipython2",
   "version": "2.7.10"
  }
 },
 "nbformat": 4,
 "nbformat_minor": 0
}
